{
 "cells": [
  {
   "cell_type": "code",
   "execution_count": 68,
   "id": "f4d7f500-b5d0-4dcf-8377-8d2153b49070",
   "metadata": {},
   "outputs": [],
   "source": [
    "import numpy as np\n",
    "import pandas as pd\n",
    "import pickle\n",
    "import re\n",
    "import string"
   ]
  },
  {
   "cell_type": "code",
   "execution_count": 69,
   "id": "7068d703-7e30-4927-a464-e735fc2c3ccb",
   "metadata": {},
   "outputs": [],
   "source": [
    "def remove_punctuation(text):\n",
    "    for punctuation in string.punctuation:\n",
    "        text = text.replace(punctuation,' ')\n",
    "    return text"
   ]
  },
  {
   "cell_type": "code",
   "execution_count": 70,
   "id": "99440c28-50f5-4862-b800-e42af6c59679",
   "metadata": {},
   "outputs": [],
   "source": [
    "with open(\"../static/model/model.pickle\",\"rb\") as f:\n",
    "    model = pickle.load(f)"
   ]
  },
  {
   "cell_type": "code",
   "execution_count": 71,
   "id": "48adbddf-3a02-4f92-8944-397234e8045e",
   "metadata": {},
   "outputs": [],
   "source": [
    "with open(\"../static/model/corpora/stopwords/english\",'r') as file:\n",
    "          sw= file.read().splitlines()"
   ]
  },
  {
   "cell_type": "code",
   "execution_count": 72,
   "id": "eaa0f8c6-c415-4fbe-9cbe-efad9872b1a7",
   "metadata": {},
   "outputs": [],
   "source": [
    "vocab = pd.read_csv(\"../static/model/vocabulary.txt\",header= None)\n",
    "tokens = vocab[0].tolist()"
   ]
  },
  {
   "cell_type": "code",
   "execution_count": 73,
   "id": "6d1cbf6d-f632-4c81-bbdc-fc8bb058003e",
   "metadata": {},
   "outputs": [],
   "source": [
    "from nltk.stem import PorterStemmer\n",
    "ps = PorterStemmer()\n"
   ]
  },
  {
   "cell_type": "code",
   "execution_count": 74,
   "id": "59861dec-4ea3-4243-9565-aa6963c327fc",
   "metadata": {},
   "outputs": [],
   "source": [
    "def preprocessing(text):\n",
    "    data = pd.DataFrame([text],columns=[\"tweet\"])\n",
    "    data[\"tweet\"] = data[\"tweet\"].apply(lambda x: \" \".join(x.lower() for x in x.split()))  #upperto lower\n",
    "    data[\"tweet\"] = data[\"tweet\"].apply(lambda x: \" \".join(re.sub(r'https?:\\/\\/.*[\\r\\n]*', ' ', x, flags =re.MULTILINE) for x in x.split())) #remove links\n",
    "    data[\"tweet\"] =data[\"tweet\"].apply(remove_punctuation) #remove punctuation\n",
    "    data[\"tweet\"]=data[\"tweet\"].str.replace('\\d+','',regex = True) #rmov numbers\n",
    "    data [\"tweet\"]=data [\"tweet\"].apply(lambda x: \" \".join(x for x in x.split() if x not in sw))  #remove stopwords\n",
    "    data[\"tweet\"] = data [\"tweet\"].apply(lambda x: ' '.join(ps.stem(x) for x in x.split()))\n",
    "    return data[\"tweet\"]"
   ]
  },
  {
   "cell_type": "code",
   "execution_count": 78,
   "id": "b5f82f0f-0bbb-44bd-9ab2-4705c8eeecf5",
   "metadata": {},
   "outputs": [],
   "source": [
    "def vectorization(ds,vocabulary):\n",
    "    vectorized_lst=[]\n",
    "    for sentence in ds:\n",
    "        sentence_lst = np.zeros(len(vocabulary))\n",
    "        for i in range(len(vocabulary)):\n",
    "            if vocabulary[i] in sentence.split():\n",
    "                sentence_lst[i] =1\n",
    "        vectorized_lst.append(sentence_lst)\n",
    "    vectorized_lst_new = np.asarray(vectorized_lst,dtype = np.float32)\n",
    "    return vectorized_lst_new"
   ]
  },
  {
   "cell_type": "code",
   "execution_count": 84,
   "id": "0d9f1e83-fb78-4f25-8010-1dfafc2226dd",
   "metadata": {},
   "outputs": [],
   "source": [
    "def get_prediction(vectorized_text):\n",
    "    prediction = model.predict(vectorized_text)\n",
    "    if prediction ==1:\n",
    "        return \"Negative\"\n",
    "    else:\n",
    "        return \"Positive\""
   ]
  },
  {
   "cell_type": "code",
   "execution_count": 89,
   "id": "c316aae3-9fe7-4666-8aa2-edf940f46868",
   "metadata": {},
   "outputs": [
    {
     "data": {
      "text/plain": [
       "'Negative'"
      ]
     },
     "execution_count": 89,
     "metadata": {},
     "output_type": "execute_result"
    }
   ],
   "source": [
    "txt = \"wow product.I bring it.\"\n",
    "preprocessed_txt =  preprocessing(txt)\n",
    "vectorized_txt = vectorization(preprocessed_txt,tokens)\n",
    "prediction = get_prediction(vectorized_txt)\n",
    "prediction"
   ]
  },
  {
   "cell_type": "code",
   "execution_count": null,
   "id": "6b50eea6-2db5-439c-82f7-403bd189c626",
   "metadata": {},
   "outputs": [],
   "source": []
  },
  {
   "cell_type": "code",
   "execution_count": null,
   "id": "88c8c532-9891-42d7-819e-f691204d4e4f",
   "metadata": {},
   "outputs": [],
   "source": []
  }
 ],
 "metadata": {
  "kernelspec": {
   "display_name": "Python 3 (ipykernel)",
   "language": "python",
   "name": "python3"
  },
  "language_info": {
   "codemirror_mode": {
    "name": "ipython",
    "version": 3
   },
   "file_extension": ".py",
   "mimetype": "text/x-python",
   "name": "python",
   "nbconvert_exporter": "python",
   "pygments_lexer": "ipython3",
   "version": "3.11.9"
  }
 },
 "nbformat": 4,
 "nbformat_minor": 5
}
